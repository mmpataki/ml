{
 "cells": [
  {
   "cell_type": "code",
   "execution_count": 9,
   "metadata": {},
   "outputs": [
    {
     "name": "stdout",
     "output_type": "stream",
     "text": [
      "[ 0.92804178  0.07206594]\n",
      "[ 0.06337045  0.93653802]\n",
      "[ 0.06334844  0.93657068]\n",
      "[ 0.49595886  0.50403896]\n"
     ]
    }
   ],
   "source": [
    "import numpy as np\n",
    "\n",
    "class Net:\n",
    "    \n",
    "    def sigmoid(self, x):\n",
    "        return 1.0 / (1.0 + np.exp(-x))\n",
    "    \n",
    "    def dsigmoid(self, x):\n",
    "        return x * (1 - x)\n",
    "    \n",
    "    def __init__(self, neurons):\n",
    "        self.layers = len(neurons)\n",
    "        self.weights = []\n",
    "        for i in range(1, len(neurons)):\n",
    "            self.weights.append(np.random.rand(neurons[i-1], neurons[i]))\n",
    "    \n",
    "    def calculate(self, inp):\n",
    "        self.activations = []\n",
    "        self.zs = []\n",
    "        x = np.array(inp)\n",
    "        \n",
    "        self.zs.append(x)\n",
    "        self.activations.append(x)\n",
    "        \n",
    "        for i in range(0, self.layers-1):\n",
    "            x = np.dot(x, self.weights[i])\n",
    "            self.zs.append(x)\n",
    "            x = self.sigmoid(x)\n",
    "            self.activations.append(x)\n",
    "        return x\n",
    "    \n",
    "    def backprop(self, inp, op, eta):\n",
    "        \n",
    "        z = self.calculate(inp)\n",
    "        cost = 0.5 * np.sum((op - z) ** 2)\n",
    "                \n",
    "        #calculate the error in the last layer.\n",
    "        err = (z - op) * self.dsigmoid(z)\n",
    "        \n",
    "        #real backpropogation.\n",
    "        for i in range(1, self.layers):\n",
    "            \n",
    "            #copy weights.\n",
    "            cwts = np.transpose(self.weights[-i].copy())\n",
    "            t = np.transpose([self.activations[-i-1]])\n",
    "            self.weights[-i] -= eta * np.dot(t, [err])\n",
    "            da = self.dsigmoid(self.activations[-i-1])\n",
    "            \n",
    "            #compute error again. (used in next iteration)\n",
    "            err = da * np.dot(err, cwts)\n",
    "            \n",
    "        return z\n",
    "\n",
    "net = Net([2,3,2])\n",
    "\n",
    "dset = [[[0,0],[1,0]], [[0,1],[0,1]], [[1,0],[0,1]], [[1,1],[1,0]]]\n",
    "\n",
    "for i in range(3000):\n",
    "    for j in range(4):\n",
    "        d = net.backprop(dset[j][0], dset[j][1], 0.5)\n",
    "\n",
    "for j in range(len(dset)):\n",
    "    print(net.calculate(dset[j][0]))\n"
   ]
  },
  {
   "cell_type": "code",
   "execution_count": 96,
   "metadata": {},
   "outputs": [
    {
     "data": {
      "text/plain": [
       "0.5"
      ]
     },
     "execution_count": 96,
     "metadata": {},
     "output_type": "execute_result"
    }
   ],
   "source": [
    "net.sigmoid(0)"
   ]
  }
 ],
 "metadata": {
  "kernelspec": {
   "display_name": "Python 3",
   "language": "python",
   "name": "python3"
  },
  "language_info": {
   "codemirror_mode": {
    "name": "ipython",
    "version": 3
   },
   "file_extension": ".py",
   "mimetype": "text/x-python",
   "name": "python",
   "nbconvert_exporter": "python",
   "pygments_lexer": "ipython3",
   "version": "3.5.2+"
  }
 },
 "nbformat": 4,
 "nbformat_minor": 2
}
