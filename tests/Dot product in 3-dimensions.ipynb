{
 "cells": [
  {
   "cell_type": "markdown",
   "metadata": {},
   "source": [
    "### 3-dimensional dot product in numpy\n",
    "\n",
    "Can we compute dot product of 3-dimensional matrices in numpy? Is it same way as we do for 2D matrices? This was a need when trying to implement convolution neural networks of cs231n course. Let's take a look"
   ]
  },
  {
   "cell_type": "code",
   "execution_count": 45,
   "metadata": {},
   "outputs": [],
   "source": [
    "import numpy as np"
   ]
  },
  {
   "cell_type": "markdown",
   "metadata": {},
   "source": [
    "Let's have 2 `3x3` matrices and try to find their dot product. We initialise the matrices with 1's as the we already know what is the dot product of it. Yes it's 27.0"
   ]
  },
  {
   "cell_type": "code",
   "execution_count": 46,
   "metadata": {},
   "outputs": [],
   "source": [
    "a = np.ones([3,3,3])\n",
    "b = np.ones([3,3,3])"
   ]
  },
  {
   "cell_type": "code",
   "execution_count": 47,
   "metadata": {},
   "outputs": [
    {
     "name": "stdout",
     "output_type": "stream",
     "text": [
      "[[[[ 3.  3.  3.]\n",
      "   [ 3.  3.  3.]\n",
      "   [ 3.  3.  3.]]\n",
      "\n",
      "  [[ 3.  3.  3.]\n",
      "   [ 3.  3.  3.]\n",
      "   [ 3.  3.  3.]]\n",
      "\n",
      "  [[ 3.  3.  3.]\n",
      "   [ 3.  3.  3.]\n",
      "   [ 3.  3.  3.]]]\n",
      "\n",
      "\n",
      " [[[ 3.  3.  3.]\n",
      "   [ 3.  3.  3.]\n",
      "   [ 3.  3.  3.]]\n",
      "\n",
      "  [[ 3.  3.  3.]\n",
      "   [ 3.  3.  3.]\n",
      "   [ 3.  3.  3.]]\n",
      "\n",
      "  [[ 3.  3.  3.]\n",
      "   [ 3.  3.  3.]\n",
      "   [ 3.  3.  3.]]]\n",
      "\n",
      "\n",
      " [[[ 3.  3.  3.]\n",
      "   [ 3.  3.  3.]\n",
      "   [ 3.  3.  3.]]\n",
      "\n",
      "  [[ 3.  3.  3.]\n",
      "   [ 3.  3.  3.]\n",
      "   [ 3.  3.  3.]]\n",
      "\n",
      "  [[ 3.  3.  3.]\n",
      "   [ 3.  3.  3.]\n",
      "   [ 3.  3.  3.]]]]\n"
     ]
    }
   ],
   "source": [
    "#compute the dot product.\n",
    "c = np.dot(a,b)\n",
    "print(c)"
   ]
  },
  {
   "cell_type": "markdown",
   "metadata": {},
   "source": [
    "What the hell! We didn't get a dot product as 27.0 but we got whole bunch of `3x3` matrices. Actually numpy's dot works differently than we expect it to work. It's doing matrix multiplication on last axis. Hence this absurd results are infront of us. Is there a simple way to do it in numpy? \n",
    "\n",
    "#### Smashing dimensions\n",
    "Why don't we just smash the dimensions of the matrix find the dot product as numpy does the dot product as expected for the single dimension matrices. So what we have got is function called `ravel` which can give us a single dimensional view of the multidimensional matrix."
   ]
  },
  {
   "cell_type": "code",
   "execution_count": 48,
   "metadata": {},
   "outputs": [
    {
     "name": "stdout",
     "output_type": "stream",
     "text": [
      "27.0\n"
     ]
    }
   ],
   "source": [
    "# smash the dimensions\n",
    "ra = a.ravel()\n",
    "rb = b.ravel()\n",
    "\n",
    "#now compute the dot product\n",
    "c = np.dot(ra, rb)\n",
    "\n",
    "print(c)"
   ]
  }
 ],
 "metadata": {
  "kernelspec": {
   "display_name": "Python 3",
   "language": "python",
   "name": "python3"
  },
  "language_info": {
   "codemirror_mode": {
    "name": "ipython",
    "version": 3
   },
   "file_extension": ".py",
   "mimetype": "text/x-python",
   "name": "python",
   "nbconvert_exporter": "python",
   "pygments_lexer": "ipython3",
   "version": "3.5.2+"
  }
 },
 "nbformat": 4,
 "nbformat_minor": 2
}
