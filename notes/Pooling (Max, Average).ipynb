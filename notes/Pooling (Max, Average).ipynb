{
 "cells": [
  {
   "cell_type": "markdown",
   "metadata": {},
   "source": [
    "### Pooling implementations\n",
    "\n",
    "We here try two different types of pooling techniques such as average-pooling, max-pooling. These pooling algorithms are used in the convolution neural networks. The motto of this work is to visualize the pooling (compaction with preserving feature(shape) information)"
   ]
  },
  {
   "cell_type": "code",
   "execution_count": 1,
   "metadata": {},
   "outputs": [],
   "source": [
    "import numpy as np\n",
    "import math as m\n",
    "import matplotlib.pyplot as plt"
   ]
  },
  {
   "cell_type": "markdown",
   "metadata": {},
   "source": [
    "#### Create an in memory image (sinewave-inverted). (shown below)"
   ]
  },
  {
   "cell_type": "code",
   "execution_count": 2,
   "metadata": {},
   "outputs": [
    {
     "data": {
      "image/png": "[encoded data removed]",
      "text/plain": [
       "<matplotlib.figure.Figure at 0x7fdaf192aeb8>"
      ]
     },
     "metadata": {},
     "output_type": "display_data"
    }
   ],
   "source": [
    "iw = 360\n",
    "ih = 360\n",
    "\n",
    "img = np.zeros([ih,iw])\n",
    "for i in range(iw):\n",
    "    y = m.floor(m.sin(i * 3.14 / 180) * (ih/2) + (ih/2))\n",
    "    img[y][i] = 100\n",
    "plt.imshow(img)\n",
    "plt.show()"
   ]
  },
  {
   "cell_type": "markdown",
   "metadata": {},
   "source": [
    "#### Hyperparameters.\n",
    "We are going to use these hyperparameters."
   ]
  },
  {
   "cell_type": "code",
   "execution_count": 3,
   "metadata": {},
   "outputs": [],
   "source": [
    "stride = 4\n",
    "winsize = 4"
   ]
  },
  {
   "cell_type": "markdown",
   "metadata": {},
   "source": [
    "#### Average pooling\n",
    "Now we use average pooling to get a smaller version of the above image."
   ]
  },
  {
   "cell_type": "code",
   "execution_count": 4,
   "metadata": {},
   "outputs": [
    {
     "data": {
      "image/png": "[encoded data removed]",
      "text/plain": [
       "<matplotlib.figure.Figure at 0x7fdaf192ab70>"
      ]
     },
     "metadata": {},
     "output_type": "display_data"
    }
   ],
   "source": [
    "nh, nw = m.floor(ih / winsize), m.floor(iw / winsize)\n",
    "\n",
    "apimg = np.zeros([nh, nw])\n",
    "for i in range(nh):\n",
    "    y = i * winsize\n",
    "    for j in range(nw):\n",
    "        x = j * winsize\n",
    "        apimg[j][i] = np.average(img[x:(x+winsize), y:(y+winsize)])\n",
    "\n",
    "plt.imshow(apimg)\n",
    "plt.show()"
   ]
  },
  {
   "cell_type": "markdown",
   "metadata": {},
   "source": [
    "#### Maxpooling\n",
    "\n",
    "For each window we choose maximum of the window here"
   ]
  },
  {
   "cell_type": "code",
   "execution_count": 5,
   "metadata": {},
   "outputs": [
    {
     "data": {
      "image/png": "[encoded data removed]",
      "text/plain": [
       "<matplotlib.figure.Figure at 0x7fdaef3f8e48>"
      ]
     },
     "metadata": {},
     "output_type": "display_data"
    }
   ],
   "source": [
    "nh, nw = m.floor(ih / winsize), m.floor(iw / winsize)\n",
    "\n",
    "apimg = np.zeros([nh, nw])\n",
    "for i in range(nh):\n",
    "    y = i * winsize\n",
    "    for j in range(nw):\n",
    "        x = j * winsize\n",
    "        apimg[j][i] = np.max(img[x:(x+winsize), y:(y+winsize)])\n",
    "\n",
    "plt.imshow(apimg)\n",
    "plt.show()"
   ]
  }
 ],
 "metadata": {
  "kernelspec": {
   "display_name": "Python 3",
   "language": "python",
   "name": "python3"
  },
  "language_info": {
   "codemirror_mode": {
    "name": "ipython",
    "version": 3
   },
   "file_extension": ".py",
   "mimetype": "text/x-python",
   "name": "python",
   "nbconvert_exporter": "python",
   "pygments_lexer": "ipython3",
   "version": "3.5.2+"
  }
 },
 "nbformat": 4,
 "nbformat_minor": 2
}
